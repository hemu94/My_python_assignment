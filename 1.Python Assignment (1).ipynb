{
 "cells": [
  {
   "cell_type": "markdown",
   "metadata": {
    "colab_type": "text",
    "id": "l0ZzOlyxB-kf"
   },
   "source": [
    "<h1>Python: without numpy or sklearn </h1>"
   ]
  },
  {
   "cell_type": "markdown",
   "metadata": {
    "colab_type": "text",
    "id": "C0xO8JV9B-ki"
   },
   "source": [
    "<h3> Q1: Given two matrices please print the product of those two matrices </h3>\n",
    "<pre>\n",
    "\n",
    "Ex 1: A   = [[1 3 4]\n",
    "             [2 5 7]\n",
    "             [5 9 6]]\n",
    "      B   = [[1 0 0]\n",
    "             [0 1 0]\n",
    "             [0 0 1]]\n",
    "      A*B = [[1 3 4]\n",
    "             [2 5 7]\n",
    "             [5 9 6]]\n",
    "\n",
    "     \n",
    "Ex 2: A   = [[1 2]\n",
    "             [3 4]]\n",
    "      B   = [[1 2 3 4 5]\n",
    "             [5 6 7 8 9]]\n",
    "      A*B = [[11 14 17 20 23]\n",
    "             [18 24 30 36 42]]\n",
    "             \n",
    "Ex 3: A   = [[1 2]\n",
    "             [3 4]]\n",
    "      B   = [[1 4]\n",
    "             [5 6]\n",
    "             [7 8]\n",
    "             [9 6]]\n",
    "      A*B =Not possible\n",
    "</pre>"
   ]
  },
  {
   "cell_type": "code",
   "execution_count": 1,
   "metadata": {
    "colab": {},
    "colab_type": "code",
    "id": "rnssAfpgB-kj"
   },
   "outputs": [
    {
     "data": {
      "text/plain": [
       "[[1, 3, 4], [2, 5, 7], [5, 9, 6]]"
      ]
     },
     "execution_count": 1,
     "metadata": {},
     "output_type": "execute_result"
    }
   ],
   "source": [
    "# write your python code here\n",
    "# you can take the above example as sample input for your program to test\n",
    "# it should work for any general input try not to hard code for only given input examples\n",
    "\n",
    "\n",
    "# you can free to change all these codes/structure\n",
    "# here A and B are list of lists\n",
    "\n",
    "A   = [[1,3,4],\n",
    "       [2,5,7],\n",
    "       [5,9,6]]\n",
    "\n",
    "B   = [[1,0,0],\n",
    "       [0,1,0],\n",
    "       [0,0,1]]\n",
    "\n",
    "AB = [[0,0,0],[0,0,0],[0,0,0]]\n",
    "\n",
    "def matrix_mul(A, B):\n",
    "    \n",
    "    for a in range(len(A)):\n",
    "        for b in range(len(B[0])):\n",
    "            for c in range(len(B)):\n",
    "                AB[a][b] +=  A[a][c] * B[c][b]\n",
    "    \n",
    "    return AB\n",
    "    \n",
    "matrix_mul(A, B)"
   ]
  },
  {
   "cell_type": "markdown",
   "metadata": {
    "colab_type": "text",
    "id": "at4VwLggB-kn"
   },
   "source": [
    "<h3> Q2: Select a number randomly with probability proportional to its magnitude from the given array of n elements</h3>\n",
    "\n",
    "consider an experiment, selecting an element from the list A randomly with probability proportional to its magnitude.\n",
    "assume we are doing the same experiment for 100 times with replacement, in each experiment you will print a number that is selected randomly from A.\n",
    "\n",
    "<pre>\n",
    "Ex 1: A = [0 5 27 6 13 28 100 45 10 79]\n",
    "let f(x) denote the number of times x getting selected in 100 experiments.\n",
    "f(100) > f(79) > f(45) > f(28) > f(27) > f(13) > f(10) > f(6) > f(5) > f(0)\n",
    "</pre>"
   ]
  },
  {
   "cell_type": "code",
   "execution_count": 6,
   "metadata": {
    "colab": {},
    "colab_type": "code",
    "id": "B6S2dpBhB-kn",
    "scrolled": true
   },
   "outputs": [
    {
     "data": {
      "text/plain": [
       "{3: 16, 2: 10, 4: 22, 1: 6, 5: 20, 6: 25}"
      ]
     },
     "execution_count": 6,
     "metadata": {},
     "output_type": "execute_result"
    }
   ],
   "source": [
    "import random\n",
    "from random import uniform\n",
    "# write your python code here\n",
    "# you can take the above example as sample input for your program to test\n",
    "# it should work for any general input try not to hard code for only given input examples\n",
    "\n",
    "\n",
    "# you can free to change all these codes/structure\n",
    "A = [3,2,4,1,5,6]\n",
    "def pick_a_number_from_list(A):\n",
    "    add = 0\n",
    "    for i in A:\n",
    "        add += i\n",
    "    d_dash = []\n",
    "    d_tilde = []\n",
    "    for i in A:\n",
    "        x = int(i)/(add)\n",
    "        d_dash.append(x)\n",
    "        \n",
    "    cum_sum = 0\n",
    "    for i in d_dash:\n",
    "        cum_sum += i\n",
    "        d_tilde.append(cum_sum)\n",
    "        \n",
    "    r = random.uniform(0.0,1.0)\n",
    "    \n",
    "    for i in d_tilde:\n",
    "        if r <= i:\n",
    "            p = d_tilde.index(i)\n",
    "            n = i\n",
    "            break\n",
    "    fin = A[p]\n",
    "    return fin\n",
    "\n",
    "d = {}\n",
    "\n",
    "for i in A:\n",
    "    d[i] = 0\n",
    "    \n",
    "\n",
    "def sampling_based_on_magnitued():\n",
    "    for i in range(1,100):\n",
    "        number = pick_a_number_from_list(A)\n",
    "        d[number] += 1\n",
    "    return d\n",
    "\n",
    "sampling_based_on_magnitued()"
   ]
  },
  {
   "cell_type": "markdown",
   "metadata": {
    "colab_type": "text",
    "id": "D1xQy2WWB-kq"
   },
   "source": [
    "<h3> Q3: Replace the digits in the string with #</h3>\n",
    "\n",
    "consider a string that will have digits in that, we need to remove all the not digits and replace the digits with #\n",
    "<pre>\n",
    "Ex 1: A = 234                Output: ###\n",
    "Ex 2: A = a2b3c4             Output: ###\n",
    "Ex 3: A = abc                Output:   (empty string)\n",
    "Ex 5: A = #2a$#b%c%561#      Output: ####\n",
    "</pre>"
   ]
  },
  {
   "cell_type": "code",
   "execution_count": 13,
   "metadata": {
    "scrolled": true
   },
   "outputs": [
    {
     "name": "stdout",
     "output_type": "stream",
     "text": [
      "a1b2g3h4b5\n"
     ]
    },
    {
     "data": {
      "text/plain": [
       "'#####'"
      ]
     },
     "execution_count": 13,
     "metadata": {},
     "output_type": "execute_result"
    }
   ],
   "source": [
    "import re\n",
    "# write your python code here\n",
    "# you can take the above example as sample input for your program to test\n",
    "# it should work for any general input try not to hard code for only given input examples\n",
    "\n",
    "# you can free to change all these codes/structure\n",
    "# String: it will be the input to your program\n",
    "String = input()\n",
    "\n",
    "\n",
    "def replace_digits(String):\n",
    "    x = re.sub('[a-z]','',String)\n",
    "    y = re.sub('\\d','#',x)\n",
    "    return y # modified string which is after replacing the # with digits\n",
    "\n",
    "replace_digits(String)"
   ]
  },
  {
   "cell_type": "markdown",
   "metadata": {
    "colab_type": "text",
    "id": "j7h0Ywg7B-kw"
   },
   "source": [
    "<h3> Q4: Students marks dashboard</h3>\n",
    "\n",
    "consider the marks list of class students given two lists <br>\n",
    "Students = ['student1','student2','student3','student4','student5','student6','student7','student8','student9','student10'] <br>\n",
    "Marks = [45, 78, 12, 14, 48, 43, 45, 98, 35, 80] <br>\n",
    "from the above two lists the Student[0] got Marks[0],  Student[1] got Marks[1] and so on <br><br>\n",
    "your task is to print the name of students\n",
    "<strong>a. Who got top 5 ranks, in the descending order of marks</strong> <br>\n",
    "<strong>b. Who got least 5 ranks, in the increasing order of marks</strong><br>\n",
    "<strong>d. Who got marks between  &gt;25th percentile &lt;75th percentile, in the increasing order of marks</strong>\n",
    "\n",
    "<pre>\n",
    "Ex 1: \n",
    "Students=['student1','student2','student3','student4','student5','student6','student7','student8','student9','student10'] \n",
    "Marks = [45, 78, 12, 14, 48, 43, 47, 98, 35, 80]\n",
    "a. \n",
    "student8  98\n",
    "student10 80\n",
    "student2  78\n",
    "student5  48\n",
    "student7  47\n",
    "b.\n",
    "student3 12\n",
    "student4 14\n",
    "student9 35\n",
    "student6 43\n",
    "student1 45\n",
    "c.\n",
    "student9 35\n",
    "student6 43\n",
    "student1 45\n",
    "student7 47\n",
    "student5 48\n",
    "</pre>"
   ]
  },
  {
   "cell_type": "code",
   "execution_count": 48,
   "metadata": {
    "scrolled": true
   },
   "outputs": [
    {
     "name": "stdout",
     "output_type": "stream",
     "text": [
      "['student7  47', 'student5  48', 'student2  78', 'student10  80', 'student8  98'] ['student3  12', 'student4  14', 'student9  35', 'student6  43', 'student1  45'] ['student5  48', 'student7  47', 'student1  45', 'student6  43', 'student9  35']\n"
     ]
    }
   ],
   "source": [
    "# write your python code here\n",
    "# you can take the above example as sample input for your program to test\n",
    "# it should work for any general input try not to hard code for only given input examples\n",
    "\n",
    "# you can free to change all these codes/structure\n",
    "\n",
    "\n",
    "def display_dash_board(students, marks):\n",
    "    d = {}\n",
    "    p = 0\n",
    "    k = 0\n",
    "    list_0 = []\n",
    "    for i in students:\n",
    "        d[i] = marks[p]\n",
    "        p += 1\n",
    "    order = sorted(d.items(),key = lambda x: x[1])\n",
    "    for i in order:\n",
    "        m = order[k][0] +' ' +' '+ str(order[k][1])\n",
    "        list_0.append(m)\n",
    "        k = k+1\n",
    "    list_1 = list_0[::-1]\n",
    "    a = len(list_1)\n",
    "    if a%4 == 0:\n",
    "        b = a/4\n",
    "        c = 3*(a/4)\n",
    "    else:\n",
    "        b = a//4 + 1\n",
    "        c = 3*(a//4) + 2\n",
    "    top_5_students = list_0[5:10]\n",
    "    \n",
    "    \n",
    "    least_5_students = list_0[0:5]\n",
    "    \n",
    "    \n",
    "    \n",
    "    students_within_25_and_75 = list_1[b:c]\n",
    "    \n",
    "    \n",
    "    \n",
    "    return top_5_students, least_5_students, students_within_25_and_75\n",
    "\n",
    "students = ['student1','student2','student3','student4','student5','student6','student7','student8','student9','student10']\n",
    "marks = [45, 78, 12, 14, 48, 43, 47, 98, 35, 80]\n",
    "\n",
    "top_5_students, least_5_students, students_within_25_and_75 = display_dash_board(students, marks)\n",
    "print(top_5_students, least_5_students, students_within_25_and_75)"
   ]
  },
  {
   "cell_type": "markdown",
   "metadata": {
    "colab_type": "text",
    "id": "qha0OhQHB-k1"
   },
   "source": [
    "<h3> Q5: Find the closest points</h3>\n",
    "\n",
    "consider you have given n data points in the form of list of tuples like S=[(x1,y1),(x2,y2),(x3,y3),(x4,y4),(x5,y5),..,(xn,yn)] and a point P=(p,q) <br> your task is to find 5 closest points(based on cosine distance) in S from P\n",
    "<br>cosine distance between two points (x,y) and (p,q) is defind as $cos^{-1}(\\frac{(x\\cdot p+y\\cdot q)}{\\sqrt(x^2+y^2)\\cdot\\sqrt(p^2+q^2)})$\n",
    "<pre>\n",
    "Ex:\n",
    "\n",
    "S= [(1,2),(3,4),(-1,1),(6,-7),(0, 6),(-5,-8),(-1,-1)(6,0),(1,-1)]\n",
    "P= (3,-4)\n",
    "<img src='https://i.imgur.com/vIFPOcG.jpg', width=300>\n",
    "Output:\n",
    "(6,-7)\n",
    "(1,-1)\n",
    "(6,0)\n",
    "(-5,-8)\n",
    "(-1,-1)\n",
    "</pre>"
   ]
  },
  {
   "cell_type": "code",
   "execution_count": 27,
   "metadata": {
    "colab": {},
    "colab_type": "code",
    "id": "wA5I1g-2B-k2"
   },
   "outputs": [
    {
     "name": "stdout",
     "output_type": "stream",
     "text": [
      "[(6, -7), (1, -1), (6, 0), (-5, -8), (-1, -1)]\n"
     ]
    }
   ],
   "source": [
    "import math\n",
    "\n",
    "# write your python code here\n",
    "# you can take the above example as sample input for your program to test\n",
    "# it should work for any general input try not to hard code for only given input examples\n",
    "# you can free to change all these codes/structure\n",
    "\n",
    "\n",
    "# here S is list of tuples and P is a tuple ot len=2\n",
    "def closest_points_to_p(S, P):\n",
    "    d = {}\n",
    "    closest_points_to_p = []\n",
    "    for i in S:\n",
    "        dist = math.acos((i[0]*P[0]+i[1]*P[1])/((math.sqrt(i[0]**2+i[1]**2))*(math.sqrt(P[0]**2+P[1]**2))))\n",
    "        d[i] = dist\n",
    "    result = sorted(d.items(),key = lambda t: t[1])\n",
    "    list_0 = result[0:5]\n",
    "    for i in list_0:\n",
    "        closest_points_to_p.append(i[0])\n",
    "    return closest_points_to_p  # its list of tuples\n",
    "\n",
    "S= [(1,2),(3,4),(-1,1),(6,-7),(0, 6),(-5,-8),(-1,-1),(6,0),(1,-1)]\n",
    "P= (3,-4)\n",
    "points = closest_points_to_p(S, P)\n",
    "print(points) #print the returned values"
   ]
  },
  {
   "cell_type": "markdown",
   "metadata": {
    "colab_type": "text",
    "id": "-g11jeAiB-k5"
   },
   "source": [
    "<h3> Q6: Find Which line separates oranges and apples</h3>\n",
    "consider you have given two set of data points in the form of list of tuples like \n",
    "<pre>\n",
    "Red =[(R11,R12),(R21,R22),(R31,R32),(R41,R42),(R51,R52),..,(Rn1,Rn2)]\n",
    "Blue=[(B11,B12),(B21,B22),(B31,B32),(B41,B42),(B51,B52),..,(Bm1,Bm2)]\n",
    "</pre>\n",
    "and set of line equations(in the string formate, i.e list of strings)\n",
    "<pre>\n",
    "Lines = [a1x+b1y+c1,a2x+b2y+c2,a3x+b3y+c3,a4x+b4y+c4,..,K lines]\n",
    "Note: you need to string parsing here and get the coefficients of x,y and intercept\n",
    "</pre>\n",
    "your task is to for each line that is given print \"YES\"/\"NO\", you will print yes, if all the red points are one side of the line and blue points are other side of the line, otherwise no\n",
    "<pre>\n",
    "Ex:\n",
    "Red= [(1,1),(2,1),(4,2),(2,4), (-1,4)]\n",
    "Blue= [(-2,-1),(-1,-2),(-3,-2),(-3,-1),(1,-3)]\n",
    "Lines=[\"1x+1y+0\",\"1x-1y+0\",\"1x+0y-3\",\"0x+1y-0.5\"]\n",
    "<img src='https://i.imgur.com/DoQf7mE.jpg' width=400>\n",
    "Output:\n",
    "YES\n",
    "NO\n",
    "NO\n",
    "YES\n",
    "</pre>"
   ]
  },
  {
   "cell_type": "code",
   "execution_count": 67,
   "metadata": {
    "scrolled": false
   },
   "outputs": [
    {
     "name": "stdout",
     "output_type": "stream",
     "text": [
      "YES\n",
      "N0\n",
      "NO\n",
      "YES\n"
     ]
    }
   ],
   "source": [
    "import math\n",
    "# write your python code here\n",
    "# you can take the above example as sample input for your program to test\n",
    "# it should work for any general input try not to hard code for only given input strings\n",
    "\n",
    "\n",
    "# you can free to change all these codes/structure\n",
    "def i_am_the_one(red,blue,line):\n",
    "    list_0 =[]\n",
    "    list_1 =[]\n",
    "    if line[0] == '-':\n",
    "        a1 = int(line[1])*-1\n",
    "        a2 = int(line[4])\n",
    "        a3 = int(line[7])\n",
    "        if line[3] == '-':\n",
    "            a2 = a2*-1\n",
    "        elif line[6] == '-':\n",
    "            a3 = a3*-1\n",
    "    else:\n",
    "        a1 = int(line[0])\n",
    "        a2 = int(line[3])\n",
    "        a3 = int(line[6])\n",
    "        if line[2] == '-':\n",
    "            a2 = a2*-1\n",
    "        elif line[5] == '-':\n",
    "            a3 = a3*-1\n",
    "    for i in Red:\n",
    "        val_1 = a1*i[0] + a2*i[1] + a3\n",
    "        list_0.append(val_1)\n",
    "    for i in Blue:\n",
    "        val_2 = a1*i[0] + a2*i[1] + a3\n",
    "        list_1.append(val_2)\n",
    "    list_2 = list(filter(lambda x: x>0,list_0))\n",
    "    list_3 = list(filter(lambda x: x>0,list_1))\n",
    "    list_4 = list(filter(lambda x: x<0,list_0))\n",
    "    list_5 = list(filter(lambda x: x<0,list_1))\n",
    "    \n",
    "    if (len(list_0) != len(list_2)) and (len(list_1) != len(list_3)) and (len(list_0) != len(list_4)) and (len(list_1) != len(list_5)):\n",
    "        return 'N0'\n",
    "    elif (len(list_2)==len(list_5)) | (len(list_3)==len(list_4)):\n",
    "        return 'YES'\n",
    "    else:\n",
    "        return 'NO'\n",
    "\n",
    "Red= [(1,1),(2,1),(4,2),(2,4),(-1,4)]\n",
    "Blue= [(-2,-1),(-1,-2),(-3,-2),(-3,-1),(1,-3)]\n",
    "Lines=[\"1x+1y+0\",\"1x-1y+0\",\"1x+0y-3\",\"0x+1y-0.5\"]\n",
    "\n",
    "for i in Lines:\n",
    "    yes_or_no = i_am_the_one(Red, Blue, i)\n",
    "    print(yes_or_no) # the returned value"
   ]
  },
  {
   "cell_type": "markdown",
   "metadata": {
    "colab_type": "text",
    "id": "9OBpURbNB-k9"
   },
   "source": [
    "<h3> Q7: Filling the missing values in the specified formate</h3>\n",
    "You will be given a string with digits and '\\_'(missing value) symbols you have to replace the '\\_' symbols as explained \n",
    "<pre>\n",
    "Ex 1: _, _, _, 24 ==> 24/4, 24/4, 24/4, 24/4 i.e we. have distributed the 24 equally to all 4 places <br>\n",
    "Ex 2: 40, _, _, _, 60 ==> (60+40)/5,(60+40)/5,(60+40)/5,(60+40)/5,(60+40)/5 ==> 20, 20, 20, 20, 20 i.e. the sum of (60+40) is distributed qually to all 5 places<br>\n",
    "Ex 3: 80, _, _, _, _  ==> 80/5,80/5,80/5,80/5,80/5 ==> 16, 16, 16, 16, 16 i.e. the 80 is distributed qually to all 5 missing values that are right to it<br>\n",
    "Ex 4: _, _, 30, _, _, _, 50, _, _  \n",
    "==> we will fill the missing values from left to right \n",
    "    a. first we will distribute the 30 to left two missing values (10, 10, 10, _, _, _, 50, _, _)\n",
    "    b. now distribute the sum (10+50) missing values in between (10, 10, 12, 12, 12, 12, 12, _, _) \n",
    "    c. now we will distribute 12 to right side missing values (10, 10, 12, 12, 12, 12, 4, 4, 4)\n",
    "</pre>\n",
    "for a given string with comma seprate values, which will have both missing values numbers like ex: \"_, _, x, _, _, _\"\n",
    "you need fill the missing values\n",
    "\n",
    "Q: your program reads a string like ex: \"_, _, x, _, _, _\" and returns the filled sequence\n",
    "\n",
    "Ex: \n",
    "<pre>\n",
    "Input1: \"_,_,_,24\"\n",
    "Output1: 6,6,6,6\n",
    "\n",
    "Input2: \"40,_,_,_,60\"\n",
    "Output2: 20,20,20,20,20\n",
    "\n",
    "Input3: \"80,_,_,_,_\"\n",
    "Output3: 16,16,16,16,16\n",
    "\n",
    "Input4: \"_,_,30,_,_,_,50,_,_\"\n",
    "Output4: 10,10,12,12,12,12,4,4,4\n",
    "</pre>\n",
    "\n"
   ]
  },
  {
   "cell_type": "code",
   "execution_count": 2,
   "metadata": {
    "scrolled": false
   },
   "outputs": [
    {
     "name": "stdout",
     "output_type": "stream",
     "text": [
      "[[10.0, 10.0], [12.0, 12.0, 12.0, 12.0], [4.0, 4.0, 4.0]]\n",
      "[[6.0, 6.0, 6.0, 6.0]]\n",
      "[[20.0, 20.0, 20.0, 20.0, 20.0]]\n",
      "[[16.0, 16.0, 16.0, 16.0, 16.0]]\n"
     ]
    }
   ],
   "source": [
    "def curve_smoothing(string):\n",
    "    list_0 = string.split(',')\n",
    "    k = 0\n",
    "    ind1 = 0\n",
    "    list_ind = []\n",
    "    list_fin = []\n",
    "    for i in list_0:\n",
    "        if i != '_':\n",
    "            ind1 = list_0.index(i)\n",
    "            list_ind.append(ind1)\n",
    "            list_index=list(set(list_ind))\n",
    "            \n",
    "    list_fin.append(list_0[0:list_index[0]+1])\n",
    "    for k in range(0,len(list_index)):\n",
    "        if k+1<len(list_index):\n",
    "            list_fin.append(list_0[(list_index[k]):(list_index[k+1]+1)])\n",
    "        else:\n",
    "            list_fin.append(list_0[(list_index[k]):])\n",
    "    for i in list_fin:\n",
    "        if len(i) == 1:\n",
    "            list_fin.remove(i)\n",
    "            \n",
    "    for j in range(0,len(list_fin)):\n",
    "        \n",
    "        if list_fin[j][0] != '_' and list_fin[j][-1] == '_':\n",
    "            x = int(list_fin[j][0])\n",
    "            for i in range(0,len(list_fin[j])):\n",
    "                list_fin[j][i] = x/(len(list_fin[j]))\n",
    "        elif list_fin[j][0] == '_' and list_fin[j][-1] != '_':\n",
    "            x = int(list_fin[j][-1])\n",
    "            for i in range(0,len(list_fin[j])):\n",
    "                list_fin[j][i] = x/(len(list_fin[j]))\n",
    "        elif list_fin[j][0] != '_' and list_fin[j][-1] != '_':\n",
    "            x = int(list_fin[j][0])\n",
    "            y = int(list_fin[j][-1])\n",
    "            for i in range(0,len(list_fin[j])):\n",
    "                list_fin[j][i] = (x + y)/(len(list_fin[j]))\n",
    "        if j < (len(list_fin)-1):\n",
    "            list_fin[j+1][0] = list_fin[j][-1]\n",
    "            list_fin[j].pop(-1)\n",
    "    return list_fin\n",
    "\n",
    "S=  ['_,_,30,_,_,_,50,_,_','_,_,_,24','40,_,_,_,60','80,_,_,_,_']\n",
    "for i in S:\n",
    "    smoothed_values= curve_smoothing(i)\n",
    "    print(smoothed_values)"
   ]
  },
  {
   "cell_type": "markdown",
   "metadata": {
    "colab_type": "text",
    "id": "RBz4pzlfB-lB"
   },
   "source": [
    "<h3> Q8: Filling the missing values in the specified formate</h3>\n",
    "You will be given a list of lists, each sublist will be of length 2 i.e. [[x,y],[p,q],[l,m]..[r,s]]\n",
    "consider its like a martrix of n rows and two columns\n",
    "1. the first column F will contain only 5 uniques values (F1, F2, F3, F4, F5)\n",
    "2. the second column S will contain only 3 uniques values (S1, S2, S3)\n",
    "<pre>\n",
    "your task is to find\n",
    "a. Probability of P(F=F1|S==S1), P(F=F1|S==S2), P(F=F1|S==S3)\n",
    "b. Probability of P(F=F2|S==S1), P(F=F2|S==S2), P(F=F2|S==S3)\n",
    "c. Probability of P(F=F3|S==S1), P(F=F3|S==S2), P(F=F3|S==S3)\n",
    "d. Probability of P(F=F4|S==S1), P(F=F4|S==S2), P(F=F4|S==S3)\n",
    "e. Probability of P(F=F5|S==S1), P(F=F5|S==S2), P(F=F5|S==S3)\n",
    "</pre>\n",
    "Ex:\n",
    "\n",
    "<pre>\n",
    "[[F1,S1],[F2,S2],[F3,S3],[F1,S2],[F2,S3],[F3,S2],[F2,S1],[F4,S1],[F4,S3],[F5,S1]]\n",
    "\n",
    "a. P(F=F1|S==S1)=1/4, P(F=F1|S==S2)=1/3, P(F=F1|S==S3)=0/3\n",
    "b. P(F=F2|S==S1)=1/4, P(F=F2|S==S2)=1/3, P(F=F2|S==S3)=1/3\n",
    "c. P(F=F3|S==S1)=0/4, P(F=F3|S==S2)=1/3, P(F=F3|S==S3)=1/3\n",
    "d. P(F=F4|S==S1)=1/4, P(F=F4|S==S2)=0/3, P(F=F4|S==S3)=1/3\n",
    "e. P(F=F5|S==S1)=1/4, P(F=F5|S==S2)=0/3, P(F=F5|S==S3)=0/3\n",
    "</pre>\n",
    "\n",
    "\n"
   ]
  },
  {
   "cell_type": "code",
   "execution_count": 52,
   "metadata": {
    "colab": {},
    "colab_type": "code",
    "id": "e-1giz1MB-lC"
   },
   "outputs": [
    {
     "data": {
      "text/plain": [
       "([0.25, 0.3333333333333333, 0.0],\n",
       " [0.25, 0.3333333333333333, 0.3333333333333333],\n",
       " [0.0, 0.3333333333333333, 0.3333333333333333],\n",
       " [0.25, 0.0, 0.3333333333333333],\n",
       " [0.25, 0.0, 0.0])"
      ]
     },
     "execution_count": 52,
     "metadata": {},
     "output_type": "execute_result"
    }
   ],
   "source": [
    "# write your python code here\n",
    "# you can take the above example as sample input for your program to test\n",
    "# it should work for any general input try not to hard code for only given input strings\n",
    "\n",
    "\n",
    "\n",
    "# you can free to change all these codes/structure\n",
    "def compute_conditional_probabilites(A):\n",
    "    \n",
    "    nS1 = 0\n",
    "    nS2 = 0\n",
    "    nS3 = 0\n",
    "    nF1S1 = 0\n",
    "    nF1S2 = 0\n",
    "    nF1S3 = 0\n",
    "    nF2S1 = 0\n",
    "    nF2S2 = 0\n",
    "    nF2S3 = 0\n",
    "    nF3S1 = 0\n",
    "    nF3S2 = 0\n",
    "    nF3S3 = 0\n",
    "    nF4S1 = 0\n",
    "    nF4S2 = 0\n",
    "    nF4S3 = 0\n",
    "    nF5S1 = 0\n",
    "    nF5S2 = 0\n",
    "    nF5S3 = 0\n",
    "    \n",
    "    for i in A:\n",
    "        if i[1] == 'S1':\n",
    "            nS1 += 1\n",
    "        elif i[1] == 'S2':\n",
    "            nS2 += 1\n",
    "        else:\n",
    "            nS3 += 1\n",
    "    \n",
    "    for i in A:\n",
    "        if i[0] == 'F1' and i[1] == 'S1':\n",
    "            nF1S1 += 1\n",
    "        elif i[0] == 'F1' and i[1] == 'S2':\n",
    "            nF1S2 += 1\n",
    "        elif i[0] == 'F1' and i[1] == 'S3':\n",
    "            nF1S3 += 1\n",
    "        elif i[0] == 'F2' and i[1] == 'S1':\n",
    "            nF2S1 += 1\n",
    "        elif i[0] == 'F2' and i[1] == 'S2':\n",
    "            nF2S2 += 1\n",
    "        elif i[0] == 'F2' and i[1] == 'S3':\n",
    "            nF2S3 += 1\n",
    "        elif i[0] == 'F3' and i[1] == 'S1':\n",
    "            nF3S1 += 1\n",
    "        elif i[0] == 'F3' and i[1] == 'S2':\n",
    "            nF3S2 += 1\n",
    "        elif i[0] == 'F3' and i[1] == 'S3':\n",
    "            nF3S3 += 1\n",
    "        elif i[0] == 'F4' and i[1] == 'S1':\n",
    "            nF4S1 += 1\n",
    "        elif i[0] == 'F4' and i[1] == 'S2':\n",
    "            nF4S2 += 1\n",
    "        elif i[0] == 'F4' and i[1] == 'S3':\n",
    "            nF4S3 += 1\n",
    "        elif i[0] == 'F5' and i[1] == 'S1':\n",
    "            nF5S1 += 1\n",
    "        elif i[0] == 'F5' and i[1] == 'S2':\n",
    "            nF5S2 += 1\n",
    "        else:\n",
    "            nF5S3 += 0\n",
    "        \n",
    "        \n",
    "    a = [nF1S1/nS1,nF1S2/nS2,nF1S3/nS3]\n",
    "    b = [nF2S1/nS1,nF2S2/nS2,nF2S3/nS3]\n",
    "    c = [nF3S1/nS1,nF3S2/nS2,nF3S3/nS3]\n",
    "    d = [nF4S1/nS1,nF4S2/nS2,nF4S3/nS3]\n",
    "    e = [nF5S1/nS1,nF5S2/nS2,nF5S3/nS3]\n",
    "        \n",
    "    return a,b,c,d,e\n",
    "            \n",
    "    \n",
    "    \n",
    "    \n",
    "\n",
    "A = [['F1','S1'],['F2','S2'],['F3','S3'],['F1','S2'],['F2','S3'],['F3','S2'],['F2','S1'],['F4','S1'],['F4','S3'],['F5','S1']]\n",
    "\n",
    "compute_conditional_probabilites(A)"
   ]
  },
  {
   "cell_type": "markdown",
   "metadata": {
    "colab_type": "text",
    "id": "n4HS87QmB-lF"
   },
   "source": [
    "<h3> Q9: Given two sentances S1, S2</h3>\n",
    "You will be given two sentances S1, S2 your task is to find \n",
    "<pre>\n",
    "a. Number of common words between S1, S2\n",
    "b. Words in S1 but not in S2\n",
    "c. Words in S2 but not in S1\n",
    "</pre>\n",
    "\n",
    "Ex: \n",
    "<pre>\n",
    "S1= \"the first column F will contain only 5 uniques values\"\n",
    "S2= \"the second column S will contain only 3 uniques values\"\n",
    "Output:\n",
    "a. 7\n",
    "b. ['first','F','5']\n",
    "c. ['second','S','3']\n",
    "</pre>"
   ]
  },
  {
   "cell_type": "code",
   "execution_count": 24,
   "metadata": {
    "colab": {},
    "colab_type": "code",
    "id": "Ez7hlHK0B-lG"
   },
   "outputs": [
    {
     "name": "stdout",
     "output_type": "stream",
     "text": [
      "7 ['first', 'F', '5'] ['second', 'S', '3']\n"
     ]
    }
   ],
   "source": [
    "# write your python code here\n",
    "# you can take the above example as sample input for your program to test\n",
    "# it should work for any general input try not to hard code for only given input strings\n",
    "\n",
    "# you can free to change all these codes/structure\n",
    "def string_features(S1, S2):\n",
    "    list_s1 = S1.split(' ')\n",
    "    list_s2 = S2.split(' ')\n",
    "    a = 0\n",
    "    b = []\n",
    "    c = []\n",
    "    for i in list_s1:\n",
    "        b.append(i)\n",
    "        if i in list_s2:\n",
    "            a = a + 1\n",
    "            b.remove(i)\n",
    "    for j in list_s2:\n",
    "        c.append(j)\n",
    "        if j in list_s1:\n",
    "            c.remove(j)\n",
    "    return a, b, c\n",
    "\n",
    "S1= \"the first column F will contain only 5 uniques values\"\n",
    "S2= \"the second column S will contain only 3 uniques values\"\n",
    "a,b,c = string_features(S1, S2)\n",
    "print(a,b,c)"
   ]
  },
  {
   "cell_type": "markdown",
   "metadata": {
    "colab_type": "text",
    "id": "XefXVEjCB-lI"
   },
   "source": [
    "<h3> Q10: Given two sentances S1, S2</h3>\n",
    "You will be given a list of lists, each sublist will be of length 2 i.e. [[x,y],[p,q],[l,m]..[r,s]]\n",
    "consider its like a martrix of n rows and two columns\n",
    "\n",
    "a. the first column Y will contain interger values <br>\n",
    "b. the second column $Y_{score}$ will be having float values <br>\n",
    "Your task is to find the value of $f(Y,Y_{score}) = -1*\\frac{1}{n}\\Sigma_{for each Y,Y_{score} pair}(Ylog10(Y_{score})+(1-Y)log10(1-Y_{score}))$ here n is the number of rows in the matrix\n",
    "<pre>\n",
    "Ex:\n",
    "[[1, 0.4], [0, 0.5], [0, 0.9], [0, 0.3], [0, 0.6], [1, 0.1], [1, 0.9], [1, 0.8]]\n",
    "output:\n",
    "0.4243099\n",
    "</pre>\n",
    "$\\frac{-1}{8}\\cdot((1\\cdot log_{10}(0.4)+0\\cdot log_{10}(0.6))+(0\\cdot log_{10}(0.5)+1\\cdot log_{10}(0.5)) + ... + (1\\cdot log_{10}(0.8)+0\\cdot log_{10}(0.2)) )$"
   ]
  },
  {
   "cell_type": "code",
   "execution_count": 28,
   "metadata": {
    "colab": {},
    "colab_type": "code",
    "id": "N9zkagyNB-lJ"
   },
   "outputs": [
    {
     "name": "stdout",
     "output_type": "stream",
     "text": [
      "0.42430993457031635\n"
     ]
    }
   ],
   "source": [
    "# write your python code here\n",
    "# you can take the above example as sample input for your program to test\n",
    "# it should work for any general input try not to hard code for only given input strings\n",
    "import math\n",
    "\n",
    "# you can free to change all these codes/structure\n",
    "def compute_log_loss(A):\n",
    "    n = len(A)\n",
    "    loss = 0\n",
    "    for i in A:\n",
    "        S = (i[0]*(math.log(i[1],10)) + ((1-i[0])*(math.log(1-i[1],10))))/n\n",
    "        loss = loss - S\n",
    "    return loss\n",
    "\n",
    "A = [[1, 0.4], [0, 0.5], [0, 0.9], [0, 0.3], [0, 0.6], [1, 0.1], [1, 0.9], [1, 0.8]]\n",
    "loss = compute_log_loss(A)\n",
    "print(loss)"
   ]
  },
  {
   "cell_type": "code",
   "execution_count": null,
   "metadata": {},
   "outputs": [],
   "source": []
  }
 ],
 "metadata": {
  "colab": {
   "collapsed_sections": [],
   "name": "1.Python Assignment.ipynb",
   "provenance": []
  },
  "kernelspec": {
   "display_name": "Python 3",
   "language": "python",
   "name": "python3"
  },
  "language_info": {
   "codemirror_mode": {
    "name": "ipython",
    "version": 3
   },
   "file_extension": ".py",
   "mimetype": "text/x-python",
   "name": "python",
   "nbconvert_exporter": "python",
   "pygments_lexer": "ipython3",
   "version": "3.7.6"
  }
 },
 "nbformat": 4,
 "nbformat_minor": 1
}
